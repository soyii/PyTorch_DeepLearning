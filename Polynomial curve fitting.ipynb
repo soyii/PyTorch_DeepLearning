{
 "cells": [
  {
   "cell_type": "markdown",
   "metadata": {},
   "source": [
    "### Polynomial curve fitting"
   ]
  },
  {
   "cell_type": "code",
   "execution_count": 209,
   "metadata": {},
   "outputs": [],
   "source": [
    "%matplotlib inline\n",
    "import matplotlib.pyplot as plt\n",
    "import numpy as np\n",
    "import torch\n",
    "torch.set_printoptions(edgeitems=2)\n",
    "import torch.optim as optim"
   ]
  },
  {
   "cell_type": "code",
   "execution_count": 210,
   "metadata": {},
   "outputs": [
    {
     "data": {
      "text/plain": [
       "torch.Size([11])"
      ]
     },
     "execution_count": 210,
     "metadata": {},
     "output_type": "execute_result"
    }
   ],
   "source": [
    "t_c = [0.5,  14.0, 15.0, 28.0, 11.0,  8.0,  3.0, -4.0,  6.0, 13.0, 21.0]\n",
    "t_u = [35.7, 55.9, 58.2, 81.9, 56.3, 48.9, 33.9, 21.8, 48.4, 60.4, 68.4]\n",
    "t_c = torch.tensor(t_c)\n",
    "t_u = torch.tensor(t_u)\n",
    "t_u.shape"
   ]
  },
  {
   "cell_type": "code",
   "execution_count": 211,
   "metadata": {},
   "outputs": [],
   "source": [
    "def polynomial_feature(x_in, deg=5):\n",
    "    \"\"\"\n",
    "        x_in: N x 1 tensor\n",
    "        return: N x (deg+1) tensor\n",
    "    \"\"\"\n",
    "    print('x_in: ', x_in.shape)\n",
    "    z = torch.empty(x_in.shape[0], deg)\n",
    "    for i, x in enumerate(x_in):\n",
    "        z[i, :] = torch.tensor([np.power(x, n) for n in range(1,deg+1)])\n",
    "    return z"
   ]
  },
  {
   "cell_type": "markdown",
   "metadata": {},
   "source": [
    "### Case1. Degree =2"
   ]
  },
  {
   "cell_type": "code",
   "execution_count": 189,
   "metadata": {},
   "outputs": [
    {
     "name": "stdout",
     "output_type": "stream",
     "text": [
      "x_in:  torch.Size([11])\n"
     ]
    }
   ],
   "source": [
    "zu2 = polynomial_feature(t_u/10., deg=2)"
   ]
  },
  {
   "cell_type": "code",
   "execution_count": 190,
   "metadata": {},
   "outputs": [
    {
     "data": {
      "text/plain": [
       "tensor([0., 1., 1.], requires_grad=True)"
      ]
     },
     "execution_count": 190,
     "metadata": {},
     "output_type": "execute_result"
    }
   ],
   "source": [
    "param = torch.tensor([0,1,1.], requires_grad=True)\n",
    "param"
   ]
  },
  {
   "cell_type": "code",
   "execution_count": 212,
   "metadata": {},
   "outputs": [],
   "source": [
    "def model(zu, param):\n",
    "    pred = torch.mv(zu, param[:-1]) + param[-1]\n",
    "    return pred"
   ]
  },
  {
   "cell_type": "code",
   "execution_count": 192,
   "metadata": {},
   "outputs": [
    {
     "name": "stdout",
     "output_type": "stream",
     "text": [
      "zu2:  tensor([[ 3.5700, 12.7449],\n",
      "        [ 5.5900, 31.2481],\n",
      "        [ 5.8200, 33.8724],\n",
      "        [ 8.1900, 67.0761],\n",
      "        [ 5.6300, 31.6969],\n",
      "        [ 4.8900, 23.9121],\n",
      "        [ 3.3900, 11.4921],\n",
      "        [ 2.1800,  4.7524],\n",
      "        [ 4.8400, 23.4256],\n",
      "        [ 6.0400, 36.4816],\n",
      "        [ 6.8400, 46.7856]]) torch.Size([11, 2])\n"
     ]
    }
   ],
   "source": [
    "zu2\n",
    "print('zu2: ', zu2, zu2.shape)"
   ]
  },
  {
   "cell_type": "code",
   "execution_count": 213,
   "metadata": {},
   "outputs": [],
   "source": [
    "def loss_fn(t_p, t_c): \n",
    "    squared_diffs = (t_p - t_c)**2\n",
    "    res = squared_diffs.mean()\n",
    "    return res"
   ]
  },
  {
   "cell_type": "code",
   "execution_count": 194,
   "metadata": {},
   "outputs": [
    {
     "data": {
      "text/plain": [
       "(tensor([-2.6358,  1.2008, -0.0556, -0.7166], requires_grad=True),\n",
       " tensor([ 3.0047,  7.2933, -1.1186,  1.0324]))"
      ]
     },
     "execution_count": 194,
     "metadata": {},
     "output_type": "execute_result"
    }
   ],
   "source": [
    "tp = model(zu2, param)\n",
    "loss = loss_fn(tp, t_c)\n",
    "loss.backward(retain_graph=True) # gradient\n",
    "\n",
    "optimizer.step() # Gradient Descent\n",
    "\n",
    "params, params.grad"
   ]
  },
  {
   "cell_type": "code",
   "execution_count": 214,
   "metadata": {},
   "outputs": [],
   "source": [
    "def training_loop(n_epochs, optimizer, params, t_u, t_c):\n",
    "    loss_values = []\n",
    "    for epoch in range(1, n_epochs + 1):\n",
    "        t_p = model(t_u, params) \n",
    "        loss = loss_fn(t_p, t_c)\n",
    "        \n",
    "        loss_values.append(loss.item())\n",
    "\n",
    "        optimizer.zero_grad()\n",
    "        loss.backward()\n",
    "        optimizer.step()\n",
    "\n",
    "        if epoch % 500 == 0:\n",
    "            print('Epoch %d, Loss %f' % (epoch, float(loss)))\n",
    "            \n",
    "    return params, loss_values"
   ]
  },
  {
   "cell_type": "code",
   "execution_count": 215,
   "metadata": {},
   "outputs": [
    {
     "name": "stdout",
     "output_type": "stream",
     "text": [
      "Epoch 500, Loss 3.884845\n",
      "Epoch 1000, Loss 3.879891\n",
      "Epoch 1500, Loss 3.875098\n",
      "Epoch 2000, Loss 3.870447\n",
      "Epoch 2500, Loss 3.865935\n",
      "Epoch 3000, Loss 3.861559\n",
      "Epoch 3500, Loss 3.857319\n",
      "Epoch 4000, Loss 3.853204\n",
      "Epoch 4500, Loss 3.849216\n",
      "Epoch 5000, Loss 3.845341\n"
     ]
    }
   ],
   "source": [
    "params = torch.tensor([0,9,0.], requires_grad=True)\n",
    "\n",
    "learning_rate = 1e-5\n",
    "# optimizer = optim.Adam([params], lr=learning_rate) # <1>\n",
    "optimizer = optim.SGD([params], lr=learning_rate) # <1>\n",
    "\n",
    "params, loss = training_loop(5000,\n",
    "             optimizer,\n",
    "             params,\n",
    "             zu2,\n",
    "             t_c)"
   ]
  },
  {
   "cell_type": "markdown",
   "metadata": {},
   "source": [
    "#### plot loss-epoch"
   ]
  },
  {
   "cell_type": "code",
   "execution_count": 216,
   "metadata": {},
   "outputs": [
    {
     "data": {
      "text/plain": [
       "[<matplotlib.lines.Line2D at 0x2a430a89f28>]"
      ]
     },
     "execution_count": 216,
     "metadata": {},
     "output_type": "execute_result"
    },
    {
     "data": {
      "image/png": "[encoded data removed]",
      "text/plain": [
       "<Figure size 432x288 with 1 Axes>"
      ]
     },
     "metadata": {
      "needs_background": "light"
     },
     "output_type": "display_data"
    }
   ],
   "source": [
    "plt.plot(loss[10:], 'o-')"
   ]
  },
  {
   "cell_type": "markdown",
   "metadata": {},
   "source": [
    "#### Plot data and curve-fit"
   ]
  },
  {
   "cell_type": "code",
   "execution_count": 217,
   "metadata": {},
   "outputs": [
    {
     "data": {
      "text/plain": [
       "<matplotlib.legend.Legend at 0x2a430905cc0>"
      ]
     },
     "execution_count": 217,
     "metadata": {},
     "output_type": "execute_result"
    },
    {
     "data": {
      "image/png": "[encoded data removed]",
      "text/plain": [
       "<Figure size 648x504 with 1 Axes>"
      ]
     },
     "metadata": {
      "needs_background": "light"
     },
     "output_type": "display_data"
    }
   ],
   "source": [
    "#fig = plt.figure(dpi=200)\n",
    "plt.figure(figsize=(9,7))\n",
    "plt.plot(t_u.numpy(), tp.detach().numpy(), label='prediction') # <2>\n",
    "plt.plot(t_u.numpy(), t_c.numpy(), 'o', label='training data')\n",
    "plt.xlabel(\"Temperature (°Fahrenheit)\")\n",
    "plt.ylabel(\"Temperature (°Celsius)\")\n",
    "plt.title('Degree = 2, L = 3.85')\n",
    "plt.legend()"
   ]
  },
  {
   "cell_type": "markdown",
   "metadata": {},
   "source": [
    "### Case2. Degree = 3"
   ]
  },
  {
   "cell_type": "code",
   "execution_count": 199,
   "metadata": {},
   "outputs": [],
   "source": [
    "def model(zu, param):\n",
    "    pred = torch.mv(zu, param[:-1]) + param[-1]\n",
    "    return pred"
   ]
  },
  {
   "cell_type": "code",
   "execution_count": 200,
   "metadata": {},
   "outputs": [
    {
     "data": {
      "text/plain": [
       "tensor([0., 1., 1., 1.], requires_grad=True)"
      ]
     },
     "execution_count": 200,
     "metadata": {},
     "output_type": "execute_result"
    }
   ],
   "source": [
    "param = torch.tensor([0,1,1,1.], requires_grad=True)\n",
    "param"
   ]
  },
  {
   "cell_type": "code",
   "execution_count": 201,
   "metadata": {},
   "outputs": [
    {
     "name": "stdout",
     "output_type": "stream",
     "text": [
      "x_in:  torch.Size([11])\n"
     ]
    }
   ],
   "source": [
    "zu3 = polynomial_feature(t_u/10., deg=3)"
   ]
  },
  {
   "cell_type": "code",
   "execution_count": 202,
   "metadata": {},
   "outputs": [
    {
     "name": "stdout",
     "output_type": "stream",
     "text": [
      "zu3:  tensor([[  3.5700,  12.7449,  45.4993],\n",
      "        [  5.5900,  31.2481, 174.6769],\n",
      "        [  5.8200,  33.8724, 197.1374],\n",
      "        [  8.1900,  67.0761, 549.3534],\n",
      "        [  5.6300,  31.6969, 178.4536],\n",
      "        [  4.8900,  23.9121, 116.9302],\n",
      "        [  3.3900,  11.4921,  38.9582],\n",
      "        [  2.1800,   4.7524,  10.3602],\n",
      "        [  4.8400,  23.4256, 113.3799],\n",
      "        [  6.0400,  36.4816, 220.3489],\n",
      "        [  6.8400,  46.7856, 320.0135]]) torch.Size([11, 3])\n"
     ]
    }
   ],
   "source": [
    "zu3\n",
    "print('zu3: ', zu3, zu3.shape)"
   ]
  },
  {
   "cell_type": "code",
   "execution_count": 203,
   "metadata": {},
   "outputs": [],
   "source": [
    "def loss_fn(t_p, t_c): \n",
    "    squared_diffs = (t_p - t_c)**2\n",
    "    res = squared_diffs.mean()\n",
    "    return res"
   ]
  },
  {
   "cell_type": "code",
   "execution_count": 204,
   "metadata": {},
   "outputs": [
    {
     "data": {
      "text/plain": [
       "tensor([0., 1., 1., 1.], requires_grad=True)"
      ]
     },
     "execution_count": 204,
     "metadata": {},
     "output_type": "execute_result"
    }
   ],
   "source": [
    "param"
   ]
  },
  {
   "cell_type": "code",
   "execution_count": 205,
   "metadata": {},
   "outputs": [
    {
     "data": {
      "text/plain": [
       "(tensor([-1.3481,  0.6127, -0.2467], requires_grad=True),\n",
       " tensor([ 0.6447, -0.1162,  0.5780]))"
      ]
     },
     "execution_count": 205,
     "metadata": {},
     "output_type": "execute_result"
    }
   ],
   "source": [
    "tp3 = model(zu3, param)\n",
    "loss = loss_fn(tp, t_c)\n",
    "loss.backward(retain_graph=True) # gradient\n",
    "\n",
    "optimizer.step() # Gradient Descent\n",
    "\n",
    "params, params.grad"
   ]
  },
  {
   "cell_type": "code",
   "execution_count": 206,
   "metadata": {},
   "outputs": [
    {
     "name": "stdout",
     "output_type": "stream",
     "text": [
      "Epoch 500, Loss 1253.658081\n",
      "Epoch 1000, Loss 507.143860\n",
      "Epoch 1500, Loss 206.044083\n",
      "Epoch 2000, Loss 84.598114\n",
      "Epoch 2500, Loss 35.613518\n",
      "Epoch 3000, Loss 15.854932\n",
      "Epoch 3500, Loss 7.884386\n",
      "Epoch 4000, Loss 4.668403\n",
      "Epoch 4500, Loss 3.370139\n",
      "Epoch 5000, Loss 2.845347\n"
     ]
    }
   ],
   "source": [
    "params = torch.tensor([0,9,0,0.], requires_grad=True)\n",
    "\n",
    "learning_rate = 1e-5\n",
    "# optimizer = optim.Adam([params], lr=learning_rate) # <1>\n",
    "optimizer = optim.SGD([params], lr=learning_rate) # <1>\n",
    "\n",
    "params, loss = training_loop(5000,\n",
    "             optimizer,\n",
    "             params,\n",
    "             zu3,\n",
    "             t_c)"
   ]
  },
  {
   "cell_type": "code",
   "execution_count": 207,
   "metadata": {},
   "outputs": [
    {
     "data": {
      "text/plain": [
       "[<matplotlib.lines.Line2D at 0x2a430955fd0>]"
      ]
     },
     "execution_count": 207,
     "metadata": {},
     "output_type": "execute_result"
    },
    {
     "data": {
      "image/png": "[encoded data removed]",
      "text/plain": [
       "<Figure size 432x288 with 1 Axes>"
      ]
     },
     "metadata": {
      "needs_background": "light"
     },
     "output_type": "display_data"
    }
   ],
   "source": [
    "plt.plot(loss[10:], 'o-')"
   ]
  },
  {
   "cell_type": "code",
   "execution_count": 208,
   "metadata": {},
   "outputs": [
    {
     "data": {
      "text/plain": [
       "<matplotlib.legend.Legend at 0x2a4305ded68>"
      ]
     },
     "execution_count": 208,
     "metadata": {},
     "output_type": "execute_result"
    },
    {
     "data": {
      "image/png": "[encoded data removed]",
      "text/plain": [
       "<Figure size 648x504 with 1 Axes>"
      ]
     },
     "metadata": {
      "needs_background": "light"
     },
     "output_type": "display_data"
    }
   ],
   "source": [
    "#fig = plt.figure(dpi=200)\n",
    "plt.figure(figsize=(9,7))\n",
    "plt.plot(t_u.numpy(), tp.detach().numpy(), label='prediction') # <2>\n",
    "plt.plot(t_u.numpy(), t_c.numpy(), 'o', label='training data')\n",
    "plt.xlabel(\"Temperature (°Fahrenheit)\")\n",
    "plt.ylabel(\"Temperature (°Celsius)\")\n",
    "plt.title('Degree = 3, L = 2.85')\n",
    "plt.legend()"
   ]
  },
  {
   "cell_type": "markdown",
   "metadata": {},
   "source": [
    "### Case3. Degree = 11"
   ]
  },
  {
   "cell_type": "code",
   "execution_count": 218,
   "metadata": {},
   "outputs": [
    {
     "data": {
      "text/plain": [
       "tensor([0., 1., 1., 1., 1., 1., 1., 1., 1., 1., 1., 1.], requires_grad=True)"
      ]
     },
     "execution_count": 218,
     "metadata": {},
     "output_type": "execute_result"
    }
   ],
   "source": [
    "param = torch.tensor([0,1,1,1,1,1,1,1,1,1,1,1.], requires_grad=True)\n",
    "param"
   ]
  },
  {
   "cell_type": "code",
   "execution_count": 219,
   "metadata": {},
   "outputs": [
    {
     "name": "stdout",
     "output_type": "stream",
     "text": [
      "x_in:  torch.Size([11])\n"
     ]
    }
   ],
   "source": [
    "zu11 = polynomial_feature(t_u/10., deg=11)"
   ]
  },
  {
   "cell_type": "code",
   "execution_count": 220,
   "metadata": {},
   "outputs": [
    {
     "name": "stdout",
     "output_type": "stream",
     "text": [
      "zu11:  tensor([[3.5700e+00, 1.2745e+01, 4.5499e+01, 1.6243e+02, 5.7988e+02, 2.0702e+03,\n",
      "         7.3906e+03, 2.6384e+04, 9.4192e+04, 3.3627e+05, 1.2005e+06],\n",
      "        [5.5900e+00, 3.1248e+01, 1.7468e+02, 9.7644e+02, 5.4583e+03, 3.0512e+04,\n",
      "         1.7056e+05, 9.5344e+05, 5.3297e+06, 2.9793e+07, 1.6654e+08],\n",
      "        [5.8200e+00, 3.3872e+01, 1.9714e+02, 1.1473e+03, 6.6775e+03, 3.8863e+04,\n",
      "         2.2618e+05, 1.3164e+06, 7.6614e+06, 4.4589e+07, 2.5951e+08],\n",
      "        [8.1900e+00, 6.7076e+01, 5.4935e+02, 4.4992e+03, 3.6848e+04, 3.0179e+05,\n",
      "         2.4717e+06, 2.0243e+07, 1.6579e+08, 1.3578e+09, 1.1120e+10],\n",
      "        [5.6300e+00, 3.1697e+01, 1.7845e+02, 1.0047e+03, 5.6564e+03, 3.1846e+04,\n",
      "         1.7929e+05, 1.0094e+06, 5.6830e+06, 3.1995e+07, 1.8013e+08],\n",
      "        [4.8900e+00, 2.3912e+01, 1.1693e+02, 5.7179e+02, 2.7960e+03, 1.3673e+04,\n",
      "         6.6859e+04, 3.2694e+05, 1.5987e+06, 7.8179e+06, 3.8229e+07],\n",
      "        [3.3900e+00, 1.1492e+01, 3.8958e+01, 1.3207e+02, 4.4771e+02, 1.5177e+03,\n",
      "         5.1451e+03, 1.7442e+04, 5.9129e+04, 2.0045e+05, 6.7951e+05],\n",
      "        [2.1800e+00, 4.7524e+00, 1.0360e+01, 2.2585e+01, 4.9236e+01, 1.0733e+02,\n",
      "         2.3399e+02, 5.1010e+02, 1.1120e+03, 2.4242e+03, 5.2847e+03],\n",
      "        [4.8400e+00, 2.3426e+01, 1.1338e+02, 5.4876e+02, 2.6560e+03, 1.2855e+04,\n",
      "         6.2218e+04, 3.0114e+05, 1.4575e+06, 7.0543e+06, 3.4143e+07],\n",
      "        [6.0400e+00, 3.6482e+01, 2.2035e+02, 1.3309e+03, 8.0387e+03, 4.8554e+04,\n",
      "         2.9326e+05, 1.7713e+06, 1.0699e+07, 6.4620e+07, 3.9031e+08],\n",
      "        [6.8400e+00, 4.6786e+01, 3.2001e+02, 2.1889e+03, 1.4972e+04, 1.0241e+05,\n",
      "         7.0048e+05, 4.7913e+06, 3.2772e+07, 2.2416e+08, 1.5333e+09]]) torch.Size([11, 11])\n"
     ]
    }
   ],
   "source": [
    "zu11\n",
    "print('zu11: ', zu11, zu11.shape)"
   ]
  },
  {
   "cell_type": "code",
   "execution_count": 221,
   "metadata": {},
   "outputs": [
    {
     "data": {
      "text/plain": [
       "(tensor([-1.3481,  0.6127, -0.2467], requires_grad=True),\n",
       " tensor([ 0.6447, -0.1162,  0.5780]))"
      ]
     },
     "execution_count": 221,
     "metadata": {},
     "output_type": "execute_result"
    }
   ],
   "source": [
    "tp11 = model(zu11, param)\n",
    "loss = loss_fn(tp, t_c)\n",
    "loss.backward() # gradient\n",
    "\n",
    "optimizer.step() # Gradient Descent\n",
    "\n",
    "params, params.grad"
   ]
  },
  {
   "cell_type": "code",
   "execution_count": 222,
   "metadata": {},
   "outputs": [
    {
     "name": "stdout",
     "output_type": "stream",
     "text": [
      "Epoch 500, Loss 1253.658081\n",
      "Epoch 1000, Loss 507.143860\n",
      "Epoch 1500, Loss 206.044083\n",
      "Epoch 2000, Loss 84.598114\n",
      "Epoch 2500, Loss 35.613518\n",
      "Epoch 3000, Loss 15.854932\n",
      "Epoch 3500, Loss 7.884386\n",
      "Epoch 4000, Loss 4.668403\n",
      "Epoch 4500, Loss 3.370139\n",
      "Epoch 5000, Loss 2.845347\n"
     ]
    }
   ],
   "source": [
    "params = torch.tensor([0,9,0,0.], requires_grad=True)\n",
    "\n",
    "learning_rate = 1e-5\n",
    "# optimizer = optim.Adam([params], lr=learning_rate) # <1>\n",
    "optimizer = optim.SGD([params], lr=learning_rate) # <1>\n",
    "\n",
    "params, loss = training_loop(5000,\n",
    "             optimizer,\n",
    "             params,\n",
    "             zu3,\n",
    "             t_c)"
   ]
  },
  {
   "cell_type": "code",
   "execution_count": 223,
   "metadata": {},
   "outputs": [
    {
     "data": {
      "text/plain": [
       "[<matplotlib.lines.Line2D at 0x2a430833cf8>]"
      ]
     },
     "execution_count": 223,
     "metadata": {},
     "output_type": "execute_result"
    },
    {
     "data": {
      "image/png": "[encoded data removed]",
      "text/plain": [
       "<Figure size 432x288 with 1 Axes>"
      ]
     },
     "metadata": {
      "needs_background": "light"
     },
     "output_type": "display_data"
    }
   ],
   "source": [
    "plt.plot(loss[10:], 'o-')"
   ]
  },
  {
   "cell_type": "code",
   "execution_count": 224,
   "metadata": {},
   "outputs": [
    {
     "data": {
      "text/plain": [
       "<matplotlib.legend.Legend at 0x2a43050b8d0>"
      ]
     },
     "execution_count": 224,
     "metadata": {},
     "output_type": "execute_result"
    },
    {
     "data": {
      "image/png": "[encoded data removed]",
      "text/plain": [
       "<Figure size 648x504 with 1 Axes>"
      ]
     },
     "metadata": {
      "needs_background": "light"
     },
     "output_type": "display_data"
    }
   ],
   "source": [
    "#fig = plt.figure(dpi=200)\n",
    "plt.figure(figsize=(9,7))\n",
    "plt.plot(t_u.numpy(), tp.detach().numpy(), label='prediction') # <2>\n",
    "plt.plot(t_u.numpy(), t_c.numpy(), 'o', label='training data')\n",
    "plt.xlabel(\"Temperature (°Fahrenheit)\")\n",
    "plt.ylabel(\"Temperature (°Celsius)\")\n",
    "plt.title('Degree = 3, L = 2.85')\n",
    "plt.legend()"
   ]
  },
  {
   "cell_type": "code",
   "execution_count": null,
   "metadata": {},
   "outputs": [],
   "source": []
  }
 ],
 "metadata": {
  "kernelspec": {
   "display_name": "PyTorch",
   "language": "python",
   "name": "pytorch"
  },
  "language_info": {
   "codemirror_mode": {
    "name": "ipython",
    "version": 3
   },
   "file_extension": ".py",
   "mimetype": "text/x-python",
   "name": "python",
   "nbconvert_exporter": "python",
   "pygments_lexer": "ipython3",
   "version": "3.7.1"
  }
 },
 "nbformat": 4,
 "nbformat_minor": 4
}
