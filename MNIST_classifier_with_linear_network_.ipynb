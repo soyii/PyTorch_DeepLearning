{
 "cells": [
  {
   "cell_type": "markdown",
   "metadata": {
    "colab_type": "text",
    "id": "r1RZ5IuXZCak"
   },
   "source": [
    "# MNIST_classifier_with_linear_network_"
   ]
  },
  {
   "cell_type": "markdown",
   "metadata": {
    "colab_type": "text",
    "id": "suQiZ8MYBSnc"
   },
   "source": [
    "#### 1. Build up a feed-forward neural network with pytorch for MNIST dataset.\n",
    "(validation accuracy should be greater than 97%)"
   ]
  },
  {
   "cell_type": "markdown",
   "metadata": {
    "colab_type": "text",
    "id": "sChpBdYTnVcz"
   },
   "source": [
    "ReLU, CrossEntropyLoss\n",
    "\n",
    "Learning rate = 1e-3\n",
    "\n",
    "Adam\n",
    "\n",
    "the number of network layers = 3\n",
    "\n",
    "Val accuracy = 98%"
   ]
  },
  {
   "cell_type": "code",
   "execution_count": 0,
   "metadata": {
    "colab": {},
    "colab_type": "code",
    "id": "0Ab-k9lBZGnS"
   },
   "outputs": [],
   "source": [
    "!pip3 install http://download.pytorch.org/whl/cu80/torch-0.3.0.post4-cp36-cp36m-linux_x86_64.whl\n",
    "!pip3 install torchvision"
   ]
  },
  {
   "cell_type": "code",
   "execution_count": 0,
   "metadata": {
    "colab": {},
    "colab_type": "code",
    "id": "IqKXJAREZJSd"
   },
   "outputs": [],
   "source": [
    "import matplotlib.pyplot as plt\n",
    "%matplotlib inline\n",
    "import numpy as np\n",
    "import torch\n",
    "import torch.nn as nn\n",
    "import torchvision.datasets\n",
    "import torchvision.transforms as transforms\n",
    "import sklearn\n",
    "import torch.utils\n",
    "import torch.optim\n",
    "import torchvision"
   ]
  },
  {
   "cell_type": "code",
   "execution_count": 0,
   "metadata": {
    "colab": {},
    "colab_type": "code",
    "id": "VCL7G459ZUWO"
   },
   "outputs": [],
   "source": [
    "data_transform = torchvision.transforms.Compose([#transforms.Grayscale(), \n",
    "                                     torchvision.transforms.ToTensor(),\n",
    "                                     torchvision.transforms.Lambda(lambda im: im.reshape(-1))\n",
    "                                    ])\n",
    "\n",
    "mnist_train = torchvision.datasets.MNIST(root='./data', train=True, download=True, transform=data_transform)\n",
    "mnist_test  = torchvision.datasets.MNIST(root='./data', train=False, download=True, transform=data_transform)\n",
    "\n",
    "batch_size=4\n",
    "data_loader_train = torch.utils.data.DataLoader(mnist_train, batch_size=batch_size, shuffle=True)\n",
    "data_loader_test = torch.utils.data.DataLoader(mnist_test, batch_size=batch_size, shuffle=True)\n",
    "data_loader = torch.utils.data.DataLoader(mnist_train, batch_size=batch_size, shuffle=True, drop_last=True)"
   ]
  },
  {
   "cell_type": "code",
   "execution_count": 0,
   "metadata": {
    "colab": {},
    "colab_type": "code",
    "id": "GGuNHtdMZUmd"
   },
   "outputs": [],
   "source": [
    "def myNetwork(in_features, n_targget):\n",
    "    linear1 = torch.nn.Linear(in_features, 256, bias=True)\n",
    "    linear2 = torch.nn.Linear(256, 256, bias=True)\n",
    "    linear3 = torch.nn.Linear(256, n_target, bias=True)\n",
    "    relu = torch.nn.ReLU()\n",
    "\n",
    "    net = nn.Sequential(linear1, relu, linear2, relu, linear3)\n",
    "\n",
    "    return net"
   ]
  },
  {
   "cell_type": "code",
   "execution_count": 0,
   "metadata": {
    "colab": {},
    "colab_type": "code",
    "id": "oskZy7QGRiqK"
   },
   "outputs": [],
   "source": [
    "def performance(model, loss_fn, dataloader):\n",
    "    model.eval()\n",
    "    with torch.no_grad():\n",
    "        loss, acc, n = 0., 0., 0.\n",
    "        for x, y in dataloader:\n",
    "            ypred = model(x)\n",
    "            loss += loss_fn(ypred, y).item() * len(y)\n",
    "            p = torch.argmax(ypred, dim=1)\n",
    "            acc += (p == y).sum().item()\n",
    "            n += len(y)\n",
    "        #\n",
    "    loss /= n\n",
    "    acc /= n\n",
    "    return loss, acc\n",
    "  \n",
    "def training_loop(n_epochs, optim, model, loss_fn, dl_train, dl_val, hist=None):\n",
    "    if hist is not None:\n",
    "        pass\n",
    "    else:\n",
    "        hist = {'tloss': [], 'tacc': [], 'vloss': [], 'vacc': []}\n",
    "        \n",
    "    for epoch in range(1, n_epochs+1):\n",
    "        tr_loss, tr_acc = 0., 0.\n",
    "        n_data = 0\n",
    "        for im_batch, label_batch in dl_train: # minibatch\n",
    "            ypred = model(im_batch)\n",
    "            loss_train = loss_fn(ypred, label_batch)\n",
    "        \n",
    "            optim.zero_grad()\n",
    "            loss_train.backward()\n",
    "            optim.step()\n",
    "\n",
    "            \n",
    "            # accumulate correct prediction\n",
    "            tr_acc  += (torch.argmax(ypred.detach(), dim=1) == label_batch).sum().item() # number of correct predictions\n",
    "            tr_loss += loss_train.item() * im_batch.shape[0]\n",
    "            n_data  += im_batch.shape[0]\n",
    "        #\n",
    "        # statistics\n",
    "        tr_loss /= n_data\n",
    "        tr_acc  /= n_data\n",
    "        #\n",
    "        val_loss, val_acc = performance(model, loss_fn, dl_val)\n",
    "        \n",
    "        if epoch <= 5 or epoch % 1000 == 0 or epoch == n_epochs:\n",
    "             print(f'Epoch {epoch}, tloss {tr_loss:.2f} t_acc: {tr_acc:.2f}  vloss {val_loss:.2f}  v_acc: {val_acc:.2f}')\n",
    "            \n",
    "        # record for history return\n",
    "        hist['tloss'].append(tr_loss)\n",
    "        hist['vloss'].append(val_loss) \n",
    "        hist['tacc'].append(tr_acc)\n",
    "        hist['vacc'].append(val_acc)\n",
    "        \n",
    "    print ('finished training_loop().')\n",
    "    return hist"
   ]
  },
  {
   "cell_type": "code",
   "execution_count": 0,
   "metadata": {
    "colab": {
     "base_uri": "https://localhost:8080/",
     "height": 281
    },
    "colab_type": "code",
    "executionInfo": {
     "elapsed": 1236,
     "status": "ok",
     "timestamp": 1587636426178,
     "user": {
      "displayName": "Soyi Kang",
      "photoUrl": "",
      "userId": "15788679644059944980"
     },
     "user_tz": -540
    },
    "id": "p5ASsHFSZjOO",
    "outputId": "48fffafd-9d30-49dc-fe78-db6010418592"
   },
   "outputs": [
    {
     "data": {
      "text/plain": [
       "(Sequential(\n",
       "   (0): Linear(in_features=784, out_features=256, bias=True)\n",
       "   (1): ReLU()\n",
       "   (2): Linear(in_features=256, out_features=256, bias=True)\n",
       "   (3): ReLU()\n",
       "   (4): Linear(in_features=256, out_features=10, bias=True)\n",
       " ), Parameter containing:\n",
       " tensor([[-0.0077, -0.0213,  0.0346,  ...,  0.0118,  0.0356, -0.0304],\n",
       "         [ 0.0237, -0.0006, -0.0015,  ..., -0.0290, -0.0213, -0.0260],\n",
       "         [ 0.0042,  0.0187, -0.0089,  ...,  0.0215, -0.0115,  0.0296],\n",
       "         ...,\n",
       "         [ 0.0346,  0.0221,  0.0210,  ...,  0.0038, -0.0202,  0.0052],\n",
       "         [-0.0093,  0.0320, -0.0206,  ..., -0.0070, -0.0265, -0.0071],\n",
       "         [-0.0052, -0.0275, -0.0073,  ...,  0.0036,  0.0325, -0.0008]],\n",
       "        requires_grad=True))"
      ]
     },
     "execution_count": 22,
     "metadata": {
      "tags": []
     },
     "output_type": "execute_result"
    }
   ],
   "source": [
    "in_features = 28*28\n",
    "n_target = 10\n",
    "\n",
    "net = myNetwork(in_features, n_target)\n",
    "net, next(net.parameters())"
   ]
  },
  {
   "cell_type": "code",
   "execution_count": 0,
   "metadata": {
    "colab": {},
    "colab_type": "code",
    "id": "LRRCFD9caWSl"
   },
   "outputs": [],
   "source": [
    "loss_fn = torch.nn.CrossEntropyLoss()\n",
    "optimizer = torch.optim.Adam(net.parameters(), lr=1e-3)\n",
    "batch_size=len(data_loader)\n",
    "\n",
    "model = myNetwork(in_features, n_target)"
   ]
  },
  {
   "cell_type": "code",
   "execution_count": 0,
   "metadata": {
    "colab": {
     "base_uri": "https://localhost:8080/",
     "height": 140
    },
    "colab_type": "code",
    "executionInfo": {
     "elapsed": 1548439,
     "status": "ok",
     "timestamp": 1587637992546,
     "user": {
      "displayName": "Soyi Kang",
      "photoUrl": "",
      "userId": "15788679644059944980"
     },
     "user_tz": -540
    },
    "id": "06UjaHO9HbGp",
    "outputId": "b1ce5699-77c1-4a64-e061-9676c5782341"
   },
   "outputs": [
    {
     "name": "stdout",
     "output_type": "stream",
     "text": [
      "Epoch 1, tloss 0.21 t_acc: 0.94  vloss 0.12  v_acc: 0.96\n",
      "Epoch 2, tloss 0.11 t_acc: 0.97  vloss 0.09  v_acc: 0.97\n",
      "Epoch 3, tloss 0.08 t_acc: 0.98  vloss 0.15  v_acc: 0.96\n",
      "Epoch 4, tloss 0.07 t_acc: 0.98  vloss 0.14  v_acc: 0.97\n",
      "Epoch 5, tloss 0.07 t_acc: 0.98  vloss 0.14  v_acc: 0.97\n",
      "Epoch 10, tloss 0.05 t_acc: 0.99  vloss 0.19  v_acc: 0.98\n",
      "finished training_loop().\n"
     ]
    }
   ],
   "source": [
    "history = training_loop(n_epochs=10,\n",
    "                        optim=optimizer,\n",
    "                        model=net,\n",
    "                        loss_fn=loss_fn, \n",
    "                        dl_train=data_loader_train,\n",
    "                        dl_val = data_loader_test\n",
    "                        )"
   ]
  }
 ],
 "metadata": {
  "accelerator": "GPU",
  "colab": {
   "authorship_tag": "ABX9TyPbT2zCt4JgtZLRGt4TzLCw",
   "collapsed_sections": [],
   "name": "hw5_강소이_E192DBG03.ipynb",
   "provenance": []
  },
  "kernelspec": {
   "display_name": "PyTorch",
   "language": "python",
   "name": "pytorch"
  },
  "language_info": {
   "codemirror_mode": {
    "name": "ipython",
    "version": 3
   },
   "file_extension": ".py",
   "mimetype": "text/x-python",
   "name": "python",
   "nbconvert_exporter": "python",
   "pygments_lexer": "ipython3",
   "version": "3.7.1"
  }
 },
 "nbformat": 4,
 "nbformat_minor": 1
}
